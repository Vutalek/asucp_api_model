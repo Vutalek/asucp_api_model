{
 "cells": [
  {
   "cell_type": "markdown",
   "id": "81ed4764-cec8-4fe8-bd73-723a46c2388a",
   "metadata": {},
   "source": [
    "# Скрипт обучения и настройка гиперпараметров"
   ]
  },
  {
   "cell_type": "markdown",
   "id": "c36f384f-9884-4cdb-a751-b845b43cfeb9",
   "metadata": {},
   "source": [
    "### Загрузка данных"
   ]
  },
  {
   "cell_type": "code",
   "execution_count": null,
   "id": "0b6c4dcb-0c18-4166-a363-ccebeacbfcbb",
   "metadata": {},
   "outputs": [],
   "source": [
    "import pandas as pd\n",
    "import numpy as np\n",
    "\n",
    "dataset = pd.read_excel(\"../api/data/data_v1.xlsx\", parse_dates = [\"Дата\"], date_format = \"%d.%m.%Y\", engine = \"openpyxl\")\n",
    "dataset.head()"
   ]
  },
  {
   "cell_type": "markdown",
   "id": "51ddcbc3-f32f-4616-9475-0963474b5c5d",
   "metadata": {},
   "source": [
    "### Конструирование признаков и преобразование исходных данных"
   ]
  },
  {
   "cell_type": "markdown",
   "id": "a517e7cb-c022-4b33-b409-d4e704769b2a",
   "metadata": {},
   "source": [
    "Месяц-sin"
   ]
  },
  {
   "cell_type": "code",
   "execution_count": null,
   "id": "a0279aca-5850-447e-815a-f7d575b6b721",
   "metadata": {},
   "outputs": [],
   "source": [
    "import math\n",
    "\n",
    "dataset[\"month-sin\"] = dataset[\"Дата\"].dt.month\n",
    "dataset[\"month-sin\"] = dataset[\"month-sin\"] * (2 * math.pi / 12)\n",
    "dataset[\"month-sin\"] = dataset[\"month-sin\"].apply(math.sin)"
   ]
  },
  {
   "cell_type": "markdown",
   "id": "c53257ed-2300-421d-b57d-acb422225819",
   "metadata": {},
   "source": [
    "Месяц-cos"
   ]
  },
  {
   "cell_type": "code",
   "execution_count": null,
   "id": "64a15d25-87a1-47de-81c2-5c727229a85b",
   "metadata": {},
   "outputs": [],
   "source": [
    "dataset[\"month-cos\"] = dataset[\"Дата\"].dt.month\n",
    "dataset[\"month-cos\"] = dataset[\"month-cos\"] * (2 * math.pi / 12)\n",
    "dataset[\"month-cos\"] = dataset[\"month-cos\"].apply(math.cos)"
   ]
  },
  {
   "cell_type": "markdown",
   "id": "4a378f6a-10d3-4b90-9d4a-4c0d1860e107",
   "metadata": {},
   "source": [
    "Бинарные признаки, описывающие треть месяца:\n",
    "- 0 - 10 - первая треть\n",
    "- 11 - 20 - вторая треть\n",
    "- 21 - 30 (31) - третья треть"
   ]
  },
  {
   "cell_type": "code",
   "execution_count": null,
   "id": "d3ab54fa-ba31-4652-b5e4-33cfde7b203b",
   "metadata": {},
   "outputs": [],
   "source": [
    "dataset[\"first-third\"] = dataset[\"Дата\"].dt.day.apply(lambda day: (0, 1)[day >= 0 and day <= 10])\n",
    "dataset[\"second-third\"] = dataset[\"Дата\"].dt.day.apply(lambda day: (0, 1)[day >= 11 and day <= 20])\n",
    "dataset[\"third-third\"] = dataset[\"Дата\"].dt.day.apply(lambda day: (0, 1)[day >= 21 and day <= 31])"
   ]
  },
  {
   "cell_type": "markdown",
   "id": "4c76a242-ee1a-4ada-83a7-e6aed66aacb2",
   "metadata": {},
   "source": [
    "День-недели-sin"
   ]
  },
  {
   "cell_type": "code",
   "execution_count": null,
   "id": "909c8fd5-aaa5-4c22-99c0-b8f808770c7e",
   "metadata": {},
   "outputs": [],
   "source": [
    "dataset[\"day-sin\"] = dataset[\"Дата\"].dt.day_of_week + 1\n",
    "dataset[\"day-sin\"] = dataset[\"day-sin\"] * (2 * math.pi / 7)\n",
    "dataset[\"day-sin\"] = dataset[\"day-sin\"].apply(math.sin)"
   ]
  },
  {
   "cell_type": "markdown",
   "id": "f0ee2db2-7958-456a-a7c0-880c13baeb05",
   "metadata": {},
   "source": [
    "День-недели-cos"
   ]
  },
  {
   "cell_type": "code",
   "execution_count": null,
   "id": "9b9dcec0-2bf6-4847-905e-d7c8e1b6f735",
   "metadata": {},
   "outputs": [],
   "source": [
    "dataset[\"day-cos\"] = dataset[\"Дата\"].dt.day_of_week + 1\n",
    "dataset[\"day-cos\"] = dataset[\"day-cos\"] * (2 * math.pi / 7)\n",
    "dataset[\"day-cos\"] = dataset[\"day-cos\"].apply(math.cos)"
   ]
  },
  {
   "cell_type": "markdown",
   "id": "08f4d0de-7b10-4597-ac2e-59dcac74605e",
   "metadata": {},
   "source": [
    "Усреднённое количество товара за соседствующие 2k записей.\n",
    "\n",
    "В качестве демо (без настройки гиперпараметра k) k = 1."
   ]
  },
  {
   "cell_type": "code",
   "execution_count": null,
   "id": "7d359a83-1434-477f-a9c1-66d4d6a4daa6",
   "metadata": {},
   "outputs": [],
   "source": [
    "def two_mean_product(row):\n",
    "    differ = pd.DataFrame()\n",
    "    differ = dataset[(dataset[\"Товар\"] == row[\"Товар\"]) & (dataset[\"Склад\"] == row[\"Склад\"])]\n",
    "    differ[\"Дата\"] = differ[\"Дата\"] - row[\"Дата\"]\n",
    "    past = differ[differ[\"Дата\"].dt.days < 0]\n",
    "    future = differ[differ[\"Дата\"].dt.days > 0]\n",
    "    past = past.sort_values(by = \"Дата\", ascending = False)\n",
    "    future = future.sort_values(by = \"Дата\")\n",
    "    if future.empty and past.empty:\n",
    "        return row[\"Количество товара\"]\n",
    "    elif future.empty:\n",
    "        return past[\"Количество товара\"].iloc[0]\n",
    "    elif past.empty:\n",
    "        return future[\"Количество товара\"].iloc[0]\n",
    "    else:\n",
    "        return (future[\"Количество товара\"].iloc[0] + past[\"Количество товара\"].iloc[0])/2\n",
    "\n",
    "dataset[\"2k-mean-product\"] = dataset.apply(lambda row: two_mean_product(row), axis = 1)"
   ]
  },
  {
   "cell_type": "markdown",
   "id": "c7a5406e-f666-44b8-a6b3-9c399ee19f9c",
   "metadata": {},
   "source": [
    "Удаление ненужных столбцов"
   ]
  },
  {
   "cell_type": "code",
   "execution_count": null,
   "id": "15a124a7-f3e0-4e24-bbfb-d8317334b125",
   "metadata": {},
   "outputs": [],
   "source": [
    "dataset = dataset.drop([\"Дата\", \"Товар\"], axis = 1)"
   ]
  },
  {
   "cell_type": "markdown",
   "id": "eee87aed-c413-4460-acb7-ca6eff51c50b",
   "metadata": {},
   "source": [
    "Переименование столбца"
   ]
  },
  {
   "cell_type": "code",
   "execution_count": null,
   "id": "136c971d-3a6d-4f55-bf7b-31a3ff40ae4f",
   "metadata": {},
   "outputs": [],
   "source": [
    "dataset = dataset.rename(columns = {\"Склад\": \"N_warehouse\", \"Количество товара\": \"amount\"})"
   ]
  },
  {
   "cell_type": "markdown",
   "id": "ae582219-f532-401a-927d-4543b50a73fb",
   "metadata": {},
   "source": [
    "Итоговый набор данных"
   ]
  },
  {
   "cell_type": "code",
   "execution_count": null,
   "id": "982bb79b-0507-482e-bdb5-4fba473a53e8",
   "metadata": {},
   "outputs": [],
   "source": [
    "dataset.head()"
   ]
  },
  {
   "cell_type": "markdown",
   "id": "cc63db5e-e3db-4e86-acca-fa7e95e9ae2b",
   "metadata": {},
   "source": [
    "### Обучение модели"
   ]
  },
  {
   "cell_type": "markdown",
   "id": "8aaceba0-e384-4fbb-ba4f-94a27c49f5d9",
   "metadata": {},
   "source": [
    "Создание оценщика предобработки"
   ]
  },
  {
   "cell_type": "code",
   "execution_count": null,
   "id": "b4030588-fce6-4503-9d20-059629419933",
   "metadata": {},
   "outputs": [],
   "source": [
    "from sklearn.base import BaseEstimator, TransformerMixin\n",
    "\n",
    "class PreProcessor(BaseEstimator, TransformerMixin):\n",
    "    \n",
    "    def __init__(self):\n",
    "        pass\n",
    "\n",
    "    def fit(self, df, y, **fit_params):\n",
    "        self.dataset = df.copy()\n",
    "        self.dataset[\"Количество товара\"] = y\n",
    "        return self\n",
    "        \n",
    "    def transform(self, df):\n",
    "        \n",
    "        df[\"month-sin\"] = df[\"Дата\"].dt.month\n",
    "        df[\"month-sin\"] = df[\"month-sin\"] * (2 * math.pi / 12)\n",
    "        df[\"month-sin\"] = df[\"month-sin\"].apply(math.sin)\n",
    "\n",
    "        df[\"month-cos\"] = df[\"Дата\"].dt.month\n",
    "        df[\"month-cos\"] = df[\"month-cos\"] * (2 * math.pi / 12)\n",
    "        df[\"month-cos\"] = df[\"month-cos\"].apply(math.cos)\n",
    "\n",
    "        df[\"first-third\"] = df[\"Дата\"].dt.day.apply(lambda day: (0, 1)[day >= 0 and day <= 10])\n",
    "        df[\"second-third\"] = df[\"Дата\"].dt.day.apply(lambda day: (0, 1)[day >= 11 and day <= 20])\n",
    "        df[\"third-third\"] = df[\"Дата\"].dt.day.apply(lambda day: (0, 1)[day >= 21 and day <= 31])\n",
    "\n",
    "        df[\"day-sin\"] = df[\"Дата\"].dt.day_of_week + 1\n",
    "        df[\"day-sin\"] = df[\"day-sin\"] * (2 * math.pi / 7)\n",
    "        df[\"day-sin\"] = df[\"day-sin\"].apply(math.sin)\n",
    "\n",
    "        df[\"day-cos\"] = df[\"Дата\"].dt.day_of_week + 1\n",
    "        df[\"day-cos\"] = df[\"day-cos\"] * (2 * math.pi / 7)\n",
    "        df[\"day-cos\"] = df[\"day-cos\"].apply(math.cos)\n",
    "\n",
    "        df[\"2k-mean-product\"] = df.apply(lambda row: self.two_mean_product(row), axis = 1)\n",
    "\n",
    "        df = df.drop([\"Дата\", \"Товар\"], axis = 1)\n",
    "\n",
    "        df = df.rename(columns = {\"Склад\": \"N_warehouse\"})\n",
    "\n",
    "        return df\n",
    "\n",
    "    def two_mean_product(self, row):\n",
    "        differ = pd.DataFrame()\n",
    "        differ = self.dataset[(self.dataset[\"Товар\"] == row[\"Товар\"]) & (self.dataset[\"Склад\"] == row[\"Склад\"])]\n",
    "        differ[\"Дата\"] = differ[\"Дата\"] - row[\"Дата\"]\n",
    "        past = differ[differ[\"Дата\"].dt.days < 0]\n",
    "        future = differ[differ[\"Дата\"].dt.days > 0]\n",
    "        past = past.sort_values(by = \"Дата\", ascending = False)\n",
    "        future = future.sort_values(by = \"Дата\")\n",
    "        if future.empty and past.empty:\n",
    "            return 0\n",
    "        elif future.empty:\n",
    "            return past[\"Количество товара\"].iloc[0]\n",
    "        elif past.empty:\n",
    "            return future[\"Количество товара\"].iloc[0]\n",
    "        else:\n",
    "            return (future[\"Количество товара\"].iloc[0] + past[\"Количество товара\"].iloc[0])/2"
   ]
  },
  {
   "cell_type": "markdown",
   "id": "0458884a-198c-495d-9b35-c2abdf2056f8",
   "metadata": {},
   "source": [
    "Создание округления в конце"
   ]
  },
  {
   "cell_type": "code",
   "execution_count": null,
   "id": "10242d9e-c30e-43e0-b5cf-3dc542b2084d",
   "metadata": {},
   "outputs": [],
   "source": [
    "class Ceil(BaseEstimator, TransformerMixin):\n",
    "\n",
    "    def __init__(self):\n",
    "        pass\n",
    "\n",
    "    def fit(self, X, y=None):\n",
    "        return self\n",
    "        \n",
    "    def transform(self, y):\n",
    "        return y\n",
    "\n",
    "    def inverse_transform(self, y):\n",
    "        return np.int64(np.ceil(y))"
   ]
  },
  {
   "cell_type": "markdown",
   "id": "e3b9e295-7b5f-4791-b049-d83bc5925ccc",
   "metadata": {},
   "source": [
    "Разделение выборки на обучающую и тестовую"
   ]
  },
  {
   "cell_type": "code",
   "execution_count": null,
   "id": "e55df768-604a-4711-9839-7fb37f3e059f",
   "metadata": {},
   "outputs": [],
   "source": [
    "from sklearn import model_selection\n",
    "\n",
    "dataset = pd.read_excel(\"../api/data/data_v1.xlsx\", parse_dates = [\"Дата\"], date_format = \"%d.%m.%Y\", engine = \"openpyxl\")\n",
    "\n",
    "X = dataset.copy()\n",
    "X = X.drop(\"Количество товара\", axis = 1)\n",
    "\n",
    "y = dataset[\"Количество товара\"]\n",
    "\n",
    "X_train, X_test, y_train, y_test = model_selection.train_test_split(X, y, random_state = 777)"
   ]
  },
  {
   "cell_type": "markdown",
   "id": "06b6d7c1-ded4-40d5-8284-bba8a275194a",
   "metadata": {},
   "source": [
    "Создание пайплайна"
   ]
  },
  {
   "cell_type": "code",
   "execution_count": null,
   "id": "a5e140cc-17f9-4813-ab21-495218da1fcf",
   "metadata": {},
   "outputs": [],
   "source": [
    "from sklearn.linear_model import QuantileRegressor\n",
    "from sklearn.pipeline import make_pipeline\n",
    "from sklearn.compose import TransformedTargetRegressor\n",
    "\n",
    "pipe = make_pipeline(PreProcessor(),\n",
    "                    TransformedTargetRegressor(regressor = QuantileRegressor(), transformer = Ceil()))"
   ]
  },
  {
   "cell_type": "code",
   "execution_count": null,
   "id": "6c1e4939-67ad-482b-83a6-cd762d5342ce",
   "metadata": {},
   "outputs": [],
   "source": [
    "pipe"
   ]
  },
  {
   "cell_type": "markdown",
   "id": "5b8ebce2-d261-47b2-8298-6d4c170ed6d3",
   "metadata": {},
   "source": [
    "Поиск гиперпараметров по сетке"
   ]
  },
  {
   "cell_type": "code",
   "execution_count": null,
   "id": "09e76a55-b292-4bad-b3ff-503aec365ba6",
   "metadata": {},
   "outputs": [],
   "source": [
    "from sklearn.model_selection import GridSearchCV\n",
    "\n",
    "param_grid = {\n",
    "    \"transformedtargetregressor__regressor__quantile\": [0.3, 0.4, 0.5, 0.6, 0.7],\n",
    "    \"transformedtargetregressor__regressor__alpha\": [0, 0.1, 0.2, 0.3, 0.4, 0.5]\n",
    "}\n",
    "\n",
    "grid = GridSearchCV(pipe, param_grid = param_grid, scoring = \"r2\")\n",
    "grid.fit(X_train, y_train)"
   ]
  },
  {
   "cell_type": "markdown",
   "id": "ec8bdcef-7aa7-4e2c-b772-d01b390f2414",
   "metadata": {},
   "source": [
    "Выбранные гиперпараметры"
   ]
  },
  {
   "cell_type": "code",
   "execution_count": null,
   "id": "cc216418-6239-4afb-9df5-1b68fce9f9ed",
   "metadata": {},
   "outputs": [],
   "source": [
    "print(f\"Best parameters: {grid.best_params_}\")"
   ]
  },
  {
   "cell_type": "markdown",
   "id": "de23dfa9-a239-455e-8317-3ee98aa1aa8d",
   "metadata": {},
   "source": [
    "### Оценивание модели"
   ]
  },
  {
   "cell_type": "markdown",
   "id": "964dc8d8-6861-40bc-b54c-149710284d7a",
   "metadata": {},
   "source": [
    "Процент данных, которые описывает модель:"
   ]
  },
  {
   "cell_type": "code",
   "execution_count": null,
   "id": "618df4f0-7dbc-4d40-bde3-8a2155d292f0",
   "metadata": {},
   "outputs": [],
   "source": [
    "from sklearn import metrics\n",
    "\n",
    "y_pred = grid.predict(X_test)\n",
    "\n",
    "percent = metrics.r2_score(y_test, y_pred) * 100\n",
    "print(f\"{percent}%\")"
   ]
  },
  {
   "cell_type": "markdown",
   "id": "a7f688ac-e337-4d46-b3d2-56b91a56676d",
   "metadata": {},
   "source": [
    "### Сериализация модели"
   ]
  },
  {
   "cell_type": "code",
   "execution_count": null,
   "id": "f074468a-17a0-4798-b502-614fcd8dc23b",
   "metadata": {},
   "outputs": [],
   "source": [
    "import dill as pickle\n",
    "\n",
    "filename = \"model_v1.pk\"\n",
    "with open(filename, \"wb\") as file:\n",
    "    pickle.dump(grid, file, recurse = True)"
   ]
  },
  {
   "cell_type": "markdown",
   "id": "c4c3d43e-a13a-4256-a24c-24b5c2b1cf5b",
   "metadata": {},
   "source": [
    "Проверка десериализации"
   ]
  },
  {
   "cell_type": "code",
   "execution_count": null,
   "id": "42c1f9c1-aa4e-4fce-ab9a-feecb364a9e5",
   "metadata": {},
   "outputs": [],
   "source": [
    "with open(\"model_v1.pk\", \"rb\") as file:\n",
    "    model = pickle.load(file)\n",
    "\n",
    "Deser_Test = pd.read_excel(\"../api/data/data_v1.xlsx\", parse_dates = [\"Дата\"], date_format = \"%d.%m.%Y\", engine = \"openpyxl\")\n",
    "Deser_Test = dataset.drop(\"Количество товара\", axis = 1)\n",
    "model.predict(Deser_Test)[:5]"
   ]
  },
  {
   "cell_type": "code",
   "execution_count": null,
   "id": "487281c9-8826-4050-95c3-aeef603b5f1a",
   "metadata": {},
   "outputs": [],
   "source": []
  }
 ],
 "metadata": {
  "kernelspec": {
   "display_name": "Python 3 (ipykernel)",
   "language": "python",
   "name": "python3"
  },
  "language_info": {
   "codemirror_mode": {
    "name": "ipython",
    "version": 3
   },
   "file_extension": ".py",
   "mimetype": "text/x-python",
   "name": "python",
   "nbconvert_exporter": "python",
   "pygments_lexer": "ipython3",
   "version": "3.12.4"
  }
 },
 "nbformat": 4,
 "nbformat_minor": 5
}
