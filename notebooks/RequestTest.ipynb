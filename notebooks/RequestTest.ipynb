{
 "cells": [
  {
   "cell_type": "markdown",
   "id": "33e66406-b9ba-43a6-97b0-1ae80a7633b1",
   "metadata": {},
   "source": [
    "# Тестирование работы сервера"
   ]
  },
  {
   "cell_type": "code",
   "execution_count": 113,
   "id": "99bf58ca-6ffe-4a40-84ee-4d300115a0d5",
   "metadata": {},
   "outputs": [],
   "source": [
    "import json\n",
    "import requests\n",
    "\n",
    "server_address = \"http://127.0.0.1:5000/predict\""
   ]
  },
  {
   "cell_type": "markdown",
   "id": "34e3804e-847f-4942-9ef2-cdd46f8b3022",
   "metadata": {},
   "source": [
    "## Создание запроса"
   ]
  },
  {
   "cell_type": "code",
   "execution_count": 116,
   "id": "7ea8a5a1-f42f-4ec1-92a1-93d549a730b1",
   "metadata": {},
   "outputs": [
    {
     "data": {
      "text/plain": [
       "'{\"warehouseId\": \"1\", \"product\": \"\\\\u041a\\\\u0438\\\\u0440\\\\u043f\\\\u0438\\\\u0447\", \"startDate\": \"2024-01-02\", \"endDate\": \"2024-01-10\"}'"
      ]
     },
     "execution_count": 116,
     "metadata": {},
     "output_type": "execute_result"
    }
   ],
   "source": [
    "header = {\"Content-Type\": \"application/json; charset=utf-8\", \"Accept\": \"application: json\"}\n",
    "\n",
    "data = {\"warehouseId\": \"1\", \"product\": \"Кирпич\", \"startDate\": \"2024-01-02\", \"endDate\": \"2024-01-10\"}\n",
    "send_data = json.dumps(data)\n",
    "\n",
    "send_data"
   ]
  },
  {
   "cell_type": "markdown",
   "id": "b32b36eb-28e3-4963-96ca-67100b9fbacf",
   "metadata": {},
   "source": [
    "## Отправка запроса"
   ]
  },
  {
   "cell_type": "code",
   "execution_count": 119,
   "id": "b29873ab-7e6b-44ee-be28-00a87865755a",
   "metadata": {},
   "outputs": [],
   "source": [
    "resp = requests.post(server_address,\n",
    "                    data = send_data, \n",
    "                    headers = header)"
   ]
  },
  {
   "cell_type": "code",
   "execution_count": 120,
   "id": "61884577-82e9-4cc6-ba17-e7f6d36b69e1",
   "metadata": {},
   "outputs": [
    {
     "data": {
      "text/plain": [
       "200"
      ]
     },
     "execution_count": 120,
     "metadata": {},
     "output_type": "execute_result"
    }
   ],
   "source": [
    "resp.status_code"
   ]
  },
  {
   "cell_type": "code",
   "execution_count": 123,
   "id": "b44abcdb-ab17-410c-96e9-c6ab6f39b1e2",
   "metadata": {},
   "outputs": [
    {
     "data": {
      "text/plain": [
       "{'prediction': 1968.0}"
      ]
     },
     "execution_count": 123,
     "metadata": {},
     "output_type": "execute_result"
    }
   ],
   "source": [
    "resp.json()"
   ]
  },
  {
   "cell_type": "code",
   "execution_count": null,
   "id": "0e544e44-b27f-43df-8a04-d07c38d8c5f2",
   "metadata": {},
   "outputs": [],
   "source": []
  }
 ],
 "metadata": {
  "kernelspec": {
   "display_name": "Python 3 (ipykernel)",
   "language": "python",
   "name": "python3"
  },
  "language_info": {
   "codemirror_mode": {
    "name": "ipython",
    "version": 3
   },
   "file_extension": ".py",
   "mimetype": "text/x-python",
   "name": "python",
   "nbconvert_exporter": "python",
   "pygments_lexer": "ipython3",
   "version": "3.12.4"
  }
 },
 "nbformat": 4,
 "nbformat_minor": 5
}
