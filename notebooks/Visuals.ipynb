{
 "cells": [
  {
   "cell_type": "markdown",
   "id": "c739ea87-4d09-4261-bac7-74a032cb76d5",
   "metadata": {},
   "source": [
    "# Визуализация"
   ]
  },
  {
   "cell_type": "markdown",
   "id": "697bec69-b5f0-4c94-bf33-29936dccb10a",
   "metadata": {},
   "source": [
    "### Загрузка исходного датасета"
   ]
  },
  {
   "cell_type": "code",
   "execution_count": null,
   "id": "f76d9f48-7186-43a5-a068-9eeb7368816b",
   "metadata": {},
   "outputs": [],
   "source": [
    "import numpy as np\n",
    "import pandas as pd\n",
    "import seaborn as sns\n",
    "import matplotlib.pyplot as plt\n",
    "import dill as pickle\n",
    "\n",
    "data = pd.read_excel(\"../api/data/data_v1.xlsx\", parse_dates = [\"Дата\"], date_format = \"%d.%m.%Y\", engine = \"openpyxl\")\n",
    "data.head()"
   ]
  },
  {
   "cell_type": "markdown",
   "id": "4c812adf-ffac-4f97-8141-c50c37c1d298",
   "metadata": {},
   "source": [
    "### Загрузка модели"
   ]
  },
  {
   "cell_type": "code",
   "execution_count": null,
   "id": "fc2999e4-c91c-4b70-9493-d1bc481d5e28",
   "metadata": {},
   "outputs": [],
   "source": [
    "with open(\"model_v1.pk\", \"rb\") as file:\n",
    "    model = pickle.load(file)\n",
    "model"
   ]
  },
  {
   "cell_type": "code",
   "execution_count": null,
   "id": "c4dfc76e-0765-43b1-909d-2d08a87865e8",
   "metadata": {},
   "outputs": [],
   "source": [
    "data[\"Предсказанное значение\"] = model.predict(data[[\"Дата\", \"Склад\", \"Товар\"]])\n",
    "data.head()"
   ]
  },
  {
   "cell_type": "markdown",
   "id": "d8026579-524f-4b6c-ae5b-9bc8defa087e",
   "metadata": {},
   "source": [
    "### Визуализация работы модели на примере кирпича"
   ]
  },
  {
   "cell_type": "code",
   "execution_count": null,
   "id": "a823099c-e922-4154-8316-689ba8c64a08",
   "metadata": {},
   "outputs": [],
   "source": [
    "sns.lineplot(data = data, x = \"Дата\", y = \"Количество товара\", color = \"green\", errorbar = None)\n",
    "sns.lineplot(data = data, x = \"Дата\", y = \"Предсказанное значение\", color = \"purple\", errorbar = None)"
   ]
  },
  {
   "cell_type": "code",
   "execution_count": null,
   "id": "70e50985-0eeb-40e8-9116-8ac51bfa0388",
   "metadata": {},
   "outputs": [],
   "source": []
  }
 ],
 "metadata": {
  "kernelspec": {
   "display_name": "Python 3 (ipykernel)",
   "language": "python",
   "name": "python3"
  },
  "language_info": {
   "codemirror_mode": {
    "name": "ipython",
    "version": 3
   },
   "file_extension": ".py",
   "mimetype": "text/x-python",
   "name": "python",
   "nbconvert_exporter": "python",
   "pygments_lexer": "ipython3",
   "version": "3.12.4"
  }
 },
 "nbformat": 4,
 "nbformat_minor": 5
}
